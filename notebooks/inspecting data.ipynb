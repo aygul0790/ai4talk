{
 "cells": [
  {
   "cell_type": "markdown",
   "id": "cc7c29a9",
   "metadata": {},
   "source": [
    "# Exploring data for Audio to Text (Minority languages) project \n"
   ]
  },
  {
   "cell_type": "code",
   "execution_count": 1,
   "id": "ea385754",
   "metadata": {},
   "outputs": [],
   "source": [
    "import pandas as pd\n",
    "transcriptions_sample_df = pd.read_csv('asr_data.csv')"
   ]
  },
  {
   "cell_type": "code",
   "execution_count": 2,
   "id": "9bbcba8f",
   "metadata": {},
   "outputs": [
    {
     "data": {
      "text/html": [
       "<div>\n",
       "<style scoped>\n",
       "    .dataframe tbody tr th:only-of-type {\n",
       "        vertical-align: middle;\n",
       "    }\n",
       "\n",
       "    .dataframe tbody tr th {\n",
       "        vertical-align: top;\n",
       "    }\n",
       "\n",
       "    .dataframe thead th {\n",
       "        text-align: right;\n",
       "    }\n",
       "</style>\n",
       "<table border=\"1\" class=\"dataframe\">\n",
       "  <thead>\n",
       "    <tr style=\"text-align: right;\">\n",
       "      <th></th>\n",
       "      <th>start</th>\n",
       "      <th>end</th>\n",
       "      <th>transcription</th>\n",
       "      <th>source</th>\n",
       "      <th>lang</th>\n",
       "    </tr>\n",
       "  </thead>\n",
       "  <tbody>\n",
       "    <tr>\n",
       "      <th>0</th>\n",
       "      <td>4.260</td>\n",
       "      <td>7.113</td>\n",
       "      <td>«Myaryosiw tina (Myaryosiw ti),</td>\n",
       "      <td>es100708_MatjPelaNEN.WAV</td>\n",
       "      <td>yrk</td>\n",
       "    </tr>\n",
       "    <tr>\n",
       "      <th>1</th>\n",
       "      <td>7.116</td>\n",
       "      <td>9.642</td>\n",
       "      <td>sawa nyeǣǣy (săwă nye).</td>\n",
       "      <td>es100708_MatjPelaNEN.WAV</td>\n",
       "      <td>yrk</td>\n",
       "    </tr>\n",
       "    <tr>\n",
       "      <th>2</th>\n",
       "      <td>16.638</td>\n",
       "      <td>19.785</td>\n",
       "      <td>Pada ni yutʃitʹq (Pida ni yusidaq),</td>\n",
       "      <td>es100708_MatjPelaNEN.WAV</td>\n",
       "      <td>yrk</td>\n",
       "    </tr>\n",
       "    <tr>\n",
       "      <th>3</th>\n",
       "      <td>19.787</td>\n",
       "      <td>22.974</td>\n",
       "      <td>pirye yesyada tănya (pirye yesyada tănya).</td>\n",
       "      <td>es100708_MatjPelaNEN.WAV</td>\n",
       "      <td>yrk</td>\n",
       "    </tr>\n",
       "    <tr>\n",
       "      <th>4</th>\n",
       "      <td>94.893</td>\n",
       "      <td>97.867</td>\n",
       "      <td>Săwawna macraaa (săwawna măncara),</td>\n",
       "      <td>es100708_MatjPelaNEN.WAV</td>\n",
       "      <td>yrk</td>\n",
       "    </tr>\n",
       "  </tbody>\n",
       "</table>\n",
       "</div>"
      ],
      "text/plain": [
       "    start     end                                transcription  \\\n",
       "0   4.260   7.113             «Myaryosiw tina (Myaryosiw ti),    \n",
       "1   7.116   9.642                     sawa nyeǣǣy (săwă nye).    \n",
       "2  16.638  19.785         Pada ni yutʃitʹq (Pida ni yusidaq),    \n",
       "3  19.787  22.974  pirye yesyada tănya (pirye yesyada tănya).    \n",
       "4  94.893  97.867          Săwawna macraaa (săwawna măncara),    \n",
       "\n",
       "                     source lang  \n",
       "0  es100708_MatjPelaNEN.WAV  yrk  \n",
       "1  es100708_MatjPelaNEN.WAV  yrk  \n",
       "2  es100708_MatjPelaNEN.WAV  yrk  \n",
       "3  es100708_MatjPelaNEN.WAV  yrk  \n",
       "4  es100708_MatjPelaNEN.WAV  yrk  "
      ]
     },
     "execution_count": 2,
     "metadata": {},
     "output_type": "execute_result"
    }
   ],
   "source": [
    "transcriptions_sample_df.head()"
   ]
  },
  {
   "cell_type": "code",
   "execution_count": 25,
   "id": "9a32932c",
   "metadata": {},
   "outputs": [
    {
     "name": "stdout",
     "output_type": "stream",
     "text": [
      "<class 'pandas.core.frame.DataFrame'>\n",
      "RangeIndex: 3212 entries, 0 to 3211\n",
      "Data columns (total 5 columns):\n",
      " #   Column         Non-Null Count  Dtype  \n",
      "---  ------         --------------  -----  \n",
      " 0   start          3212 non-null   float64\n",
      " 1   end            3212 non-null   float64\n",
      " 2   transcription  3212 non-null   object \n",
      " 3   source         3212 non-null   object \n",
      " 4   lang           3212 non-null   object \n",
      "dtypes: float64(2), object(3)\n",
      "memory usage: 125.6+ KB\n"
     ]
    }
   ],
   "source": [
    "transcriptions_sample_df.info()"
   ]
  },
  {
   "cell_type": "code",
   "execution_count": 3,
   "id": "848da7d0",
   "metadata": {},
   "outputs": [
    {
     "data": {
      "text/plain": [
       "array(['yrk', 'ckt', 'evn'], dtype=object)"
      ]
     },
     "execution_count": 3,
     "metadata": {},
     "output_type": "execute_result"
    }
   ],
   "source": [
    "transcriptions_sample_df['lang'].unique()"
   ]
  },
  {
   "cell_type": "code",
   "execution_count": 4,
   "id": "2c92da61",
   "metadata": {},
   "outputs": [
    {
     "data": {
      "text/plain": [
       "(3212, 5)"
      ]
     },
     "execution_count": 4,
     "metadata": {},
     "output_type": "execute_result"
    }
   ],
   "source": [
    "transcriptions_sample_df.shape"
   ]
  },
  {
   "cell_type": "code",
   "execution_count": 1,
   "id": "18675718",
   "metadata": {},
   "outputs": [],
   "source": [
    "import pandas as pd\n",
    "transcriptions_df = pd.read_csv('asr_data.csv')"
   ]
  },
  {
   "cell_type": "code",
   "execution_count": 23,
   "id": "2829e30c",
   "metadata": {},
   "outputs": [
    {
     "data": {
      "text/plain": [
       "98546"
      ]
     },
     "execution_count": 23,
     "metadata": {},
     "output_type": "execute_result"
    }
   ],
   "source": [
    "real_df= pd.read_csv('../training_data/asr.csv')\n",
    "len(real_df)"
   ]
  },
  {
   "cell_type": "code",
   "execution_count": 24,
   "id": "eaca3095",
   "metadata": {},
   "outputs": [
    {
     "data": {
      "text/html": [
       "<div>\n",
       "<style scoped>\n",
       "    .dataframe tbody tr th:only-of-type {\n",
       "        vertical-align: middle;\n",
       "    }\n",
       "\n",
       "    .dataframe tbody tr th {\n",
       "        vertical-align: top;\n",
       "    }\n",
       "\n",
       "    .dataframe thead th {\n",
       "        text-align: right;\n",
       "    }\n",
       "</style>\n",
       "<table border=\"1\" class=\"dataframe\">\n",
       "  <thead>\n",
       "    <tr style=\"text-align: right;\">\n",
       "      <th></th>\n",
       "      <th>id</th>\n",
       "      <th>start</th>\n",
       "      <th>end</th>\n",
       "      <th>source</th>\n",
       "      <th>lang</th>\n",
       "      <th>transcription</th>\n",
       "    </tr>\n",
       "  </thead>\n",
       "  <tbody>\n",
       "    <tr>\n",
       "      <th>0</th>\n",
       "      <td>0</td>\n",
       "      <td>1.680</td>\n",
       "      <td>3.810</td>\n",
       "      <td>5804.mp3</td>\n",
       "      <td>bak</td>\n",
       "      <td>sertifikat taratəp jœrœjœŋmœ ællæ hawmə</td>\n",
       "    </tr>\n",
       "    <tr>\n",
       "      <th>1</th>\n",
       "      <td>1</td>\n",
       "      <td>3.800</td>\n",
       "      <td>4.600</td>\n",
       "      <td>5804.mp3</td>\n",
       "      <td>bak</td>\n",
       "      <td>jaq</td>\n",
       "    </tr>\n",
       "    <tr>\n",
       "      <th>2</th>\n",
       "      <td>2</td>\n",
       "      <td>5.060</td>\n",
       "      <td>5.680</td>\n",
       "      <td>5804.mp3</td>\n",
       "      <td>bak</td>\n",
       "      <td>ultər</td>\n",
       "    </tr>\n",
       "    <tr>\n",
       "      <th>3</th>\n",
       "      <td>3</td>\n",
       "      <td>8.580</td>\n",
       "      <td>11.480</td>\n",
       "      <td>5804.mp3</td>\n",
       "      <td>bak</td>\n",
       "      <td>hin nindæj dokumenttar birðeŋ tip horarɣa kil...</td>\n",
       "    </tr>\n",
       "    <tr>\n",
       "      <th>4</th>\n",
       "      <td>4</td>\n",
       "      <td>12.315</td>\n",
       "      <td>14.015</td>\n",
       "      <td>5804.mp3</td>\n",
       "      <td>bak</td>\n",
       "      <td>hin xatta dokument aləp barmaɣanəŋmə</td>\n",
       "    </tr>\n",
       "  </tbody>\n",
       "</table>\n",
       "</div>"
      ],
      "text/plain": [
       "   id   start     end    source lang  \\\n",
       "0   0   1.680   3.810  5804.mp3  bak   \n",
       "1   1   3.800   4.600  5804.mp3  bak   \n",
       "2   2   5.060   5.680  5804.mp3  bak   \n",
       "3   3   8.580  11.480  5804.mp3  bak   \n",
       "4   4  12.315  14.015  5804.mp3  bak   \n",
       "\n",
       "                                       transcription  \n",
       "0            sertifikat taratəp jœrœjœŋmœ ællæ hawmə  \n",
       "1                                                jaq  \n",
       "2                                              ultər  \n",
       "3   hin nindæj dokumenttar birðeŋ tip horarɣa kil...  \n",
       "4               hin xatta dokument aləp barmaɣanəŋmə  "
      ]
     },
     "execution_count": 24,
     "metadata": {},
     "output_type": "execute_result"
    }
   ],
   "source": [
    "real_df.head()"
   ]
  },
  {
   "cell_type": "code",
   "execution_count": 25,
   "id": "fc03921b",
   "metadata": {},
   "outputs": [
    {
     "data": {
      "text/plain": [
       "array(['bak', 'evn', 'mhr', 'xas', 'tat', 'sah'], dtype=object)"
      ]
     },
     "execution_count": 25,
     "metadata": {},
     "output_type": "execute_result"
    }
   ],
   "source": [
    "real_df['lang'].unique()"
   ]
  },
  {
   "cell_type": "code",
   "execution_count": 26,
   "id": "8979d386",
   "metadata": {},
   "outputs": [
    {
     "data": {
      "text/plain": [
       "xas    75052\n",
       "tat    11970\n",
       "evn     3879\n",
       "bak     2566\n",
       "sah     2558\n",
       "mhr     2521\n",
       "Name: lang, dtype: int64"
      ]
     },
     "execution_count": 26,
     "metadata": {},
     "output_type": "execute_result"
    }
   ],
   "source": [
    "real_df['lang'].value_counts()"
   ]
  },
  {
   "cell_type": "code",
   "execution_count": 27,
   "id": "008b6f05",
   "metadata": {},
   "outputs": [
    {
     "data": {
      "text/plain": [
       "41503.mp3     2734\n",
       "27903.mp3     2280\n",
       "34257.mp3     2208\n",
       "20940.mp3     2066\n",
       "30773.mp3     1952\n",
       "              ... \n",
       "98953.mp3        1\n",
       "98954.mp3        1\n",
       "98955.mp3        1\n",
       "98956.mp3        1\n",
       "110221.mp3       1\n",
       "Name: source, Length: 17703, dtype: int64"
      ]
     },
     "execution_count": 27,
     "metadata": {},
     "output_type": "execute_result"
    }
   ],
   "source": [
    "real_df['source'].value_counts()"
   ]
  },
  {
   "cell_type": "code",
   "execution_count": 29,
   "id": "c0de575f",
   "metadata": {},
   "outputs": [
    {
     "data": {
      "text/html": [
       "<div>\n",
       "<style scoped>\n",
       "    .dataframe tbody tr th:only-of-type {\n",
       "        vertical-align: middle;\n",
       "    }\n",
       "\n",
       "    .dataframe tbody tr th {\n",
       "        vertical-align: top;\n",
       "    }\n",
       "\n",
       "    .dataframe thead th {\n",
       "        text-align: right;\n",
       "    }\n",
       "</style>\n",
       "<table border=\"1\" class=\"dataframe\">\n",
       "  <thead>\n",
       "    <tr style=\"text-align: right;\">\n",
       "      <th></th>\n",
       "      <th>id</th>\n",
       "      <th>start</th>\n",
       "      <th>end</th>\n",
       "      <th>source</th>\n",
       "      <th>lang</th>\n",
       "      <th>transcription</th>\n",
       "    </tr>\n",
       "  </thead>\n",
       "  <tbody>\n",
       "    <tr>\n",
       "      <th>8946</th>\n",
       "      <td>8946</td>\n",
       "      <td>NaN</td>\n",
       "      <td>NaN</td>\n",
       "      <td>14750.mp3</td>\n",
       "      <td>bak</td>\n",
       "      <td>jomɣaq</td>\n",
       "    </tr>\n",
       "    <tr>\n",
       "      <th>8947</th>\n",
       "      <td>8947</td>\n",
       "      <td>NaN</td>\n",
       "      <td>NaN</td>\n",
       "      <td>14751.mp3</td>\n",
       "      <td>bak</td>\n",
       "      <td>hajer</td>\n",
       "    </tr>\n",
       "    <tr>\n",
       "      <th>8948</th>\n",
       "      <td>8948</td>\n",
       "      <td>NaN</td>\n",
       "      <td>NaN</td>\n",
       "      <td>14752.mp3</td>\n",
       "      <td>bak</td>\n",
       "      <td>ul</td>\n",
       "    </tr>\n",
       "    <tr>\n",
       "      <th>8949</th>\n",
       "      <td>8949</td>\n",
       "      <td>NaN</td>\n",
       "      <td>NaN</td>\n",
       "      <td>14753.mp3</td>\n",
       "      <td>bak</td>\n",
       "      <td>qaurhɨn</td>\n",
       "    </tr>\n",
       "    <tr>\n",
       "      <th>8950</th>\n",
       "      <td>8950</td>\n",
       "      <td>NaN</td>\n",
       "      <td>NaN</td>\n",
       "      <td>14754.mp3</td>\n",
       "      <td>bak</td>\n",
       "      <td>jer</td>\n",
       "    </tr>\n",
       "    <tr>\n",
       "      <th>8951</th>\n",
       "      <td>8951</td>\n",
       "      <td>NaN</td>\n",
       "      <td>NaN</td>\n",
       "      <td>14755.mp3</td>\n",
       "      <td>bak</td>\n",
       "      <td>ɜjek</td>\n",
       "    </tr>\n",
       "    <tr>\n",
       "      <th>8952</th>\n",
       "      <td>8952</td>\n",
       "      <td>NaN</td>\n",
       "      <td>NaN</td>\n",
       "      <td>14756.mp3</td>\n",
       "      <td>bak</td>\n",
       "      <td>darɨ</td>\n",
       "    </tr>\n",
       "    <tr>\n",
       "      <th>8953</th>\n",
       "      <td>8953</td>\n",
       "      <td>NaN</td>\n",
       "      <td>NaN</td>\n",
       "      <td>14757.mp3</td>\n",
       "      <td>bak</td>\n",
       "      <td>jeʃeu</td>\n",
       "    </tr>\n",
       "    <tr>\n",
       "      <th>8954</th>\n",
       "      <td>8954</td>\n",
       "      <td>NaN</td>\n",
       "      <td>NaN</td>\n",
       "      <td>14758.mp3</td>\n",
       "      <td>bak</td>\n",
       "      <td>qolaq</td>\n",
       "    </tr>\n",
       "    <tr>\n",
       "      <th>8955</th>\n",
       "      <td>8955</td>\n",
       "      <td>NaN</td>\n",
       "      <td>NaN</td>\n",
       "      <td>14759.mp3</td>\n",
       "      <td>bak</td>\n",
       "      <td>jeget</td>\n",
       "    </tr>\n",
       "    <tr>\n",
       "      <th>8956</th>\n",
       "      <td>8956</td>\n",
       "      <td>NaN</td>\n",
       "      <td>NaN</td>\n",
       "      <td>14760.mp3</td>\n",
       "      <td>bak</td>\n",
       "      <td>min</td>\n",
       "    </tr>\n",
       "    <tr>\n",
       "      <th>8957</th>\n",
       "      <td>8957</td>\n",
       "      <td>NaN</td>\n",
       "      <td>NaN</td>\n",
       "      <td>14761.mp3</td>\n",
       "      <td>bak</td>\n",
       "      <td>ʐil</td>\n",
       "    </tr>\n",
       "    <tr>\n",
       "      <th>8958</th>\n",
       "      <td>8958</td>\n",
       "      <td>NaN</td>\n",
       "      <td>NaN</td>\n",
       "      <td>14762.mp3</td>\n",
       "      <td>bak</td>\n",
       "      <td>jɨl</td>\n",
       "    </tr>\n",
       "    <tr>\n",
       "      <th>8959</th>\n",
       "      <td>8959</td>\n",
       "      <td>NaN</td>\n",
       "      <td>NaN</td>\n",
       "      <td>14763.mp3</td>\n",
       "      <td>bak</td>\n",
       "      <td>maj</td>\n",
       "    </tr>\n",
       "    <tr>\n",
       "      <th>8960</th>\n",
       "      <td>8960</td>\n",
       "      <td>NaN</td>\n",
       "      <td>NaN</td>\n",
       "      <td>14764.mp3</td>\n",
       "      <td>bak</td>\n",
       "      <td>ajɣɨr</td>\n",
       "    </tr>\n",
       "    <tr>\n",
       "      <th>8961</th>\n",
       "      <td>8961</td>\n",
       "      <td>NaN</td>\n",
       "      <td>NaN</td>\n",
       "      <td>14765.mp3</td>\n",
       "      <td>bak</td>\n",
       "      <td>qosaqtaɣa</td>\n",
       "    </tr>\n",
       "    <tr>\n",
       "      <th>8962</th>\n",
       "      <td>8962</td>\n",
       "      <td>NaN</td>\n",
       "      <td>NaN</td>\n",
       "      <td>14766.mp3</td>\n",
       "      <td>bak</td>\n",
       "      <td>jɨr</td>\n",
       "    </tr>\n",
       "    <tr>\n",
       "      <th>8963</th>\n",
       "      <td>8963</td>\n",
       "      <td>NaN</td>\n",
       "      <td>NaN</td>\n",
       "      <td>14767.mp3</td>\n",
       "      <td>bak</td>\n",
       "      <td>ɜjek</td>\n",
       "    </tr>\n",
       "    <tr>\n",
       "      <th>8964</th>\n",
       "      <td>8964</td>\n",
       "      <td>NaN</td>\n",
       "      <td>NaN</td>\n",
       "      <td>14768.mp3</td>\n",
       "      <td>bak</td>\n",
       "      <td>kerpek</td>\n",
       "    </tr>\n",
       "    <tr>\n",
       "      <th>8965</th>\n",
       "      <td>8965</td>\n",
       "      <td>NaN</td>\n",
       "      <td>NaN</td>\n",
       "      <td>14769.mp3</td>\n",
       "      <td>bak</td>\n",
       "      <td>jegɨt</td>\n",
       "    </tr>\n",
       "  </tbody>\n",
       "</table>\n",
       "</div>"
      ],
      "text/plain": [
       "        id  start  end     source lang transcription\n",
       "8946  8946    NaN  NaN  14750.mp3  bak        jomɣaq\n",
       "8947  8947    NaN  NaN  14751.mp3  bak         hajer\n",
       "8948  8948    NaN  NaN  14752.mp3  bak            ul\n",
       "8949  8949    NaN  NaN  14753.mp3  bak       qaurhɨn\n",
       "8950  8950    NaN  NaN  14754.mp3  bak           jer\n",
       "8951  8951    NaN  NaN  14755.mp3  bak          ɜjek\n",
       "8952  8952    NaN  NaN  14756.mp3  bak          darɨ\n",
       "8953  8953    NaN  NaN  14757.mp3  bak         jeʃeu\n",
       "8954  8954    NaN  NaN  14758.mp3  bak         qolaq\n",
       "8955  8955    NaN  NaN  14759.mp3  bak         jeget\n",
       "8956  8956    NaN  NaN  14760.mp3  bak           min\n",
       "8957  8957    NaN  NaN  14761.mp3  bak           ʐil\n",
       "8958  8958    NaN  NaN  14762.mp3  bak           jɨl\n",
       "8959  8959    NaN  NaN  14763.mp3  bak           maj\n",
       "8960  8960    NaN  NaN  14764.mp3  bak         ajɣɨr\n",
       "8961  8961    NaN  NaN  14765.mp3  bak     qosaqtaɣa\n",
       "8962  8962    NaN  NaN  14766.mp3  bak           jɨr\n",
       "8963  8963    NaN  NaN  14767.mp3  bak          ɜjek\n",
       "8964  8964    NaN  NaN  14768.mp3  bak        kerpek\n",
       "8965  8965    NaN  NaN  14769.mp3  bak         jegɨt"
      ]
     },
     "execution_count": 29,
     "metadata": {},
     "output_type": "execute_result"
    }
   ],
   "source": [
    "real_df_tat = real_df[real_df['lang'] == 'bak']\n",
    "real_df_tat.tail(20)\n"
   ]
  },
  {
   "cell_type": "code",
   "execution_count": 18,
   "id": "9a0da346",
   "metadata": {},
   "outputs": [],
   "source": [
    "translation_df= pd.read_csv('AI4TALK/training_data/translation.csv')"
   ]
  },
  {
   "cell_type": "code",
   "execution_count": 19,
   "id": "9da11651",
   "metadata": {},
   "outputs": [
    {
     "data": {
      "text/plain": [
       "(15951, 4)"
      ]
     },
     "execution_count": 19,
     "metadata": {},
     "output_type": "execute_result"
    }
   ],
   "source": [
    "translation_df.shape"
   ]
  },
  {
   "cell_type": "code",
   "execution_count": 20,
   "id": "ee407f35",
   "metadata": {},
   "outputs": [
    {
     "data": {
      "text/html": [
       "<div>\n",
       "<style scoped>\n",
       "    .dataframe tbody tr th:only-of-type {\n",
       "        vertical-align: middle;\n",
       "    }\n",
       "\n",
       "    .dataframe tbody tr th {\n",
       "        vertical-align: top;\n",
       "    }\n",
       "\n",
       "    .dataframe thead th {\n",
       "        text-align: right;\n",
       "    }\n",
       "</style>\n",
       "<table border=\"1\" class=\"dataframe\">\n",
       "  <thead>\n",
       "    <tr style=\"text-align: right;\">\n",
       "      <th></th>\n",
       "      <th>id</th>\n",
       "      <th>lang</th>\n",
       "      <th>source</th>\n",
       "      <th>translation</th>\n",
       "    </tr>\n",
       "  </thead>\n",
       "  <tbody>\n",
       "    <tr>\n",
       "      <th>0</th>\n",
       "      <td>0</td>\n",
       "      <td>kjh</td>\n",
       "      <td>&lt;?&gt; кӧрзем, ам хыйға кізілер чахсы чуртапча.</td>\n",
       "      <td>когда посмотрю, сейчас умные люди хорошо живут.</td>\n",
       "    </tr>\n",
       "    <tr>\n",
       "      <th>1</th>\n",
       "      <td>1</td>\n",
       "      <td>xas</td>\n",
       "      <td>dĭgəttə un abibaʔ, tʼerməndə mĭmbibeʔ.</td>\n",
       "      <td>потом мы муку делали, на мельницу ходили.</td>\n",
       "    </tr>\n",
       "    <tr>\n",
       "      <th>2</th>\n",
       "      <td>2</td>\n",
       "      <td>xas</td>\n",
       "      <td>dĭgəttə mĭlleʔbəʔjə gijen iʔgö ige sĭre.</td>\n",
       "      <td>потом они идут туда, где много снего.</td>\n",
       "    </tr>\n",
       "    <tr>\n",
       "      <th>3</th>\n",
       "      <td>3</td>\n",
       "      <td>evn</td>\n",
       "      <td>горовэ-э нулгӣчэвун.</td>\n",
       "      <td>долго аргишили.</td>\n",
       "    </tr>\n",
       "    <tr>\n",
       "      <th>4</th>\n",
       "      <td>4</td>\n",
       "      <td>kjh</td>\n",
       "      <td>піреезі алыстырыбызар аны ещё.</td>\n",
       "      <td>кто-нибудь изменит её ещё.</td>\n",
       "    </tr>\n",
       "  </tbody>\n",
       "</table>\n",
       "</div>"
      ],
      "text/plain": [
       "   id lang                                        source  \\\n",
       "0   0  kjh  <?> кӧрзем, ам хыйға кізілер чахсы чуртапча.   \n",
       "1   1  xas       dĭgəttə un abibaʔ, tʼerməndə mĭmbibeʔ.    \n",
       "2   2  xas     dĭgəttə mĭlleʔbəʔjə gijen iʔgö ige sĭre.    \n",
       "3   3  evn                          горовэ-э нулгӣчэвун.   \n",
       "4   4  kjh                піреезі алыстырыбызар аны ещё.   \n",
       "\n",
       "                                       translation  \n",
       "0  когда посмотрю, сейчас умные люди хорошо живут.  \n",
       "1        потом мы муку делали, на мельницу ходили.  \n",
       "2            потом они идут туда, где много снего.  \n",
       "3                                  долго аргишили.  \n",
       "4                       кто-нибудь изменит её ещё.  "
      ]
     },
     "execution_count": 20,
     "metadata": {},
     "output_type": "execute_result"
    }
   ],
   "source": [
    "translation_df.head()"
   ]
  },
  {
   "cell_type": "code",
   "execution_count": 21,
   "id": "abd81dbd",
   "metadata": {},
   "outputs": [
    {
     "data": {
      "text/plain": [
       "kjh    5259\n",
       "xas    4907\n",
       "mhr    2473\n",
       "bak    1789\n",
       "evn    1523\n",
       "Name: lang, dtype: int64"
      ]
     },
     "execution_count": 21,
     "metadata": {},
     "output_type": "execute_result"
    }
   ],
   "source": [
    "translation_df['lang'].value_counts()"
   ]
  },
  {
   "cell_type": "markdown",
   "id": "f24dcc69",
   "metadata": {},
   "source": [
    "## comments : \n",
    "- 'tat' disappeared in translation.csv? \n",
    "- and 'kjh' appeared?\n",
    "- can we see a paper or web page where they explain their data ? how they collect it etc ? (for example to understand special caracters like <?> ) (if you don't have it somewhere yet, i'll search of course)\n"
   ]
  },
  {
   "cell_type": "markdown",
   "id": "b5417770",
   "metadata": {},
   "source": [
    "## for Wav2vec,  we need to go from  .WAV and .mp3 to float array corresponding to the raw waveform of the speech signal."
   ]
  },
  {
   "cell_type": "markdown",
   "id": "25a52364",
   "metadata": {},
   "source": [
    "# Wav2vec  2.0 \n",
    "\n",
    "https://huggingface.co/docs/transformers/model_doc/wav2vec2\n",
    "\n",
    "see also Speech2Text, Speech2Text2\n"
   ]
  },
  {
   "cell_type": "markdown",
   "id": "13ca7e17",
   "metadata": {},
   "source": [
    "## metrics\n",
    "metric -> Word error rate (WER)\n",
    "\n",
    "see also BLEU (nltk)  (Aygul's presentation) + PED (phonetic edit distance)"
   ]
  }
 ],
 "metadata": {
  "kernelspec": {
   "display_name": "Python 3 (ipykernel)",
   "language": "python",
   "name": "python3"
  },
  "language_info": {
   "codemirror_mode": {
    "name": "ipython",
    "version": 3
   },
   "file_extension": ".py",
   "mimetype": "text/x-python",
   "name": "python",
   "nbconvert_exporter": "python",
   "pygments_lexer": "ipython3",
   "version": "3.10.6"
  },
  "toc": {
   "base_numbering": 1,
   "nav_menu": {},
   "number_sections": true,
   "sideBar": true,
   "skip_h1_title": false,
   "title_cell": "Table of Contents",
   "title_sidebar": "Contents",
   "toc_cell": false,
   "toc_position": {},
   "toc_section_display": true,
   "toc_window_display": false
  }
 },
 "nbformat": 4,
 "nbformat_minor": 5
}
