{
 "cells": [
  {
   "cell_type": "code",
   "execution_count": null,
   "id": "399bcf00",
   "metadata": {},
   "outputs": [],
   "source": [
    "# !apt update\n",
    "# !apt -y install ffmpeg\n",
    "\n",
    "# Install this part from terminal using sudo for the password"
   ]
  },
  {
   "cell_type": "code",
   "execution_count": 1,
   "id": "36ce690a",
   "metadata": {},
   "outputs": [
    {
     "name": "stderr",
     "output_type": "stream",
     "text": [
      "/tmp/ipykernel_18769/719634918.py:5: TqdmExperimentalWarning: Using `tqdm.autonotebook.tqdm` in notebook mode. Use `tqdm.tqdm` instead to force console mode (e.g. in jupyter console)\n",
      "  from tqdm.autonotebook import tqdm as notebook_tqdm\n"
     ]
    }
   ],
   "source": [
    "import pandas as pd\n",
    "import os\n",
    "import re\n",
    "# from tqdm.auto import tqdm\n",
    "from tqdm.autonotebook import tqdm as notebook_tqdm\n",
    "notebook_tqdm.pandas()"
   ]
  },
  {
   "cell_type": "code",
   "execution_count": null,
   "id": "64075f33",
   "metadata": {},
   "outputs": [],
   "source": [
    "cwd = os.getcwd()\n",
    "cwd"
   ]
  },
  {
   "cell_type": "code",
   "execution_count": null,
   "id": "cc034606",
   "metadata": {},
   "outputs": [],
   "source": [
    "root_path = cwd.removesuffix('notebooks/jupyter_notebooks')\n",
    "root_path"
   ]
  },
  {
   "cell_type": "code",
   "execution_count": 4,
   "id": "80ea3394",
   "metadata": {},
   "outputs": [
    {
     "data": {
      "text/html": [
       "<div>\n",
       "<style scoped>\n",
       "    .dataframe tbody tr th:only-of-type {\n",
       "        vertical-align: middle;\n",
       "    }\n",
       "\n",
       "    .dataframe tbody tr th {\n",
       "        vertical-align: top;\n",
       "    }\n",
       "\n",
       "    .dataframe thead th {\n",
       "        text-align: right;\n",
       "    }\n",
       "</style>\n",
       "<table border=\"1\" class=\"dataframe\">\n",
       "  <thead>\n",
       "    <tr style=\"text-align: right;\">\n",
       "      <th></th>\n",
       "      <th>id</th>\n",
       "      <th>start</th>\n",
       "      <th>end</th>\n",
       "      <th>source</th>\n",
       "      <th>lang</th>\n",
       "      <th>transcription</th>\n",
       "    </tr>\n",
       "  </thead>\n",
       "  <tbody>\n",
       "    <tr>\n",
       "      <th>0</th>\n",
       "      <td>0</td>\n",
       "      <td>1.680</td>\n",
       "      <td>3.810</td>\n",
       "      <td>5804.mp3</td>\n",
       "      <td>bak</td>\n",
       "      <td>sertifikat taratəp jœrœjœŋmœ ællæ hawmə</td>\n",
       "    </tr>\n",
       "    <tr>\n",
       "      <th>1</th>\n",
       "      <td>1</td>\n",
       "      <td>3.800</td>\n",
       "      <td>4.600</td>\n",
       "      <td>5804.mp3</td>\n",
       "      <td>bak</td>\n",
       "      <td>jaq</td>\n",
       "    </tr>\n",
       "    <tr>\n",
       "      <th>1574</th>\n",
       "      <td>1574</td>\n",
       "      <td>40.623</td>\n",
       "      <td>42.404</td>\n",
       "      <td>7378.mp3</td>\n",
       "      <td>evn</td>\n",
       "      <td>laŋilwərtawutt͡ʃəŋkiːtin</td>\n",
       "    </tr>\n",
       "    <tr>\n",
       "      <th>1575</th>\n",
       "      <td>1575</td>\n",
       "      <td>25.404</td>\n",
       "      <td>27.031</td>\n",
       "      <td>7379.mp3</td>\n",
       "      <td>evn</td>\n",
       "      <td>əŋkiːwuntəɣəttəantimati</td>\n",
       "    </tr>\n",
       "    <tr>\n",
       "      <th>5453</th>\n",
       "      <td>5453</td>\n",
       "      <td>1.418</td>\n",
       "      <td>3.522</td>\n",
       "      <td>11257.mp3</td>\n",
       "      <td>mhr</td>\n",
       "      <td>ukeməjmomnalənonal</td>\n",
       "    </tr>\n",
       "    <tr>\n",
       "      <th>5454</th>\n",
       "      <td>5454</td>\n",
       "      <td>2.963</td>\n",
       "      <td>4.532</td>\n",
       "      <td>11257.mp3</td>\n",
       "      <td>mhr</td>\n",
       "      <td>nalaʃkyleʃəlevetjodaʃ</td>\n",
       "    </tr>\n",
       "    <tr>\n",
       "      <th>8966</th>\n",
       "      <td>8966</td>\n",
       "      <td>0.000</td>\n",
       "      <td>1.593</td>\n",
       "      <td>14770.mp3</td>\n",
       "      <td>xas</td>\n",
       "      <td>dmgimsobie</td>\n",
       "    </tr>\n",
       "    <tr>\n",
       "      <th>8967</th>\n",
       "      <td>8967</td>\n",
       "      <td>1.593</td>\n",
       "      <td>2.390</td>\n",
       "      <td>14770.mp3</td>\n",
       "      <td>xas</td>\n",
       "      <td>tarzittə</td>\n",
       "    </tr>\n",
       "    <tr>\n",
       "      <th>84018</th>\n",
       "      <td>84018</td>\n",
       "      <td>0.000</td>\n",
       "      <td>5.304</td>\n",
       "      <td>89822.mp3</td>\n",
       "      <td>tat</td>\n",
       "      <td>ber pensioner telefon kujdɤrmɑkɕɤ bulɤp stɑnts...</td>\n",
       "    </tr>\n",
       "    <tr>\n",
       "      <th>84019</th>\n",
       "      <td>84019</td>\n",
       "      <td>0.000</td>\n",
       "      <td>3.936</td>\n",
       "      <td>89823.mp3</td>\n",
       "      <td>tat</td>\n",
       "      <td>ɑlɑr ber jɑktɑn ɡɤnɑ keʃeɡa oxʃɑp kyrenalar</td>\n",
       "    </tr>\n",
       "    <tr>\n",
       "      <th>95988</th>\n",
       "      <td>95988</td>\n",
       "      <td>0.000</td>\n",
       "      <td>7.608</td>\n",
       "      <td>106564.mp3</td>\n",
       "      <td>sah</td>\n",
       "      <td>kim yøɾex kim talbɯt idenen ylexamnas kim ɟʝie...</td>\n",
       "    </tr>\n",
       "    <tr>\n",
       "      <th>95989</th>\n",
       "      <td>95989</td>\n",
       "      <td>0.000</td>\n",
       "      <td>5.136</td>\n",
       "      <td>106565.mp3</td>\n",
       "      <td>sah</td>\n",
       "      <td>vasilij vasilevicç eɟʝiːjin kepseːnin maŋnaj ɯ...</td>\n",
       "    </tr>\n",
       "  </tbody>\n",
       "</table>\n",
       "</div>"
      ],
      "text/plain": [
       "          id   start     end      source lang  \\\n",
       "0          0   1.680   3.810    5804.mp3  bak   \n",
       "1          1   3.800   4.600    5804.mp3  bak   \n",
       "1574    1574  40.623  42.404    7378.mp3  evn   \n",
       "1575    1575  25.404  27.031    7379.mp3  evn   \n",
       "5453    5453   1.418   3.522   11257.mp3  mhr   \n",
       "5454    5454   2.963   4.532   11257.mp3  mhr   \n",
       "8966    8966   0.000   1.593   14770.mp3  xas   \n",
       "8967    8967   1.593   2.390   14770.mp3  xas   \n",
       "84018  84018   0.000   5.304   89822.mp3  tat   \n",
       "84019  84019   0.000   3.936   89823.mp3  tat   \n",
       "95988  95988   0.000   7.608  106564.mp3  sah   \n",
       "95989  95989   0.000   5.136  106565.mp3  sah   \n",
       "\n",
       "                                           transcription  \n",
       "0                sertifikat taratəp jœrœjœŋmœ ællæ hawmə  \n",
       "1                                                    jaq  \n",
       "1574                            laŋilwərtawutt͡ʃəŋkiːtin  \n",
       "1575                             əŋkiːwuntəɣəttəantimati  \n",
       "5453                                  ukeməjmomnalənonal  \n",
       "5454                               nalaʃkyleʃəlevetjodaʃ  \n",
       "8966                                          dmgimsobie  \n",
       "8967                                            tarzittə  \n",
       "84018  ber pensioner telefon kujdɤrmɑkɕɤ bulɤp stɑnts...  \n",
       "84019        ɑlɑr ber jɑktɑn ɡɤnɑ keʃeɡa oxʃɑp kyrenalar  \n",
       "95988  kim yøɾex kim talbɯt idenen ylexamnas kim ɟʝie...  \n",
       "95989  vasilij vasilevicç eɟʝiːjin kepseːnin maŋnaj ɯ...  "
      ]
     },
     "execution_count": 4,
     "metadata": {},
     "output_type": "execute_result"
    }
   ],
   "source": [
    "df = pd.read_csv(root_path + 'raw_data/training_data/asr.csv') #your dataset here\n",
    "df.head(20)\n",
    "df.groupby('lang').head(2)"
   ]
  },
  {
   "cell_type": "code",
   "execution_count": 3,
   "id": "d24b5b7e",
   "metadata": {},
   "outputs": [
    {
     "data": {
      "text/plain": [
       "['bak', 'evn', 'mhr', 'xas', 'tat', 'sah']"
      ]
     },
     "execution_count": 3,
     "metadata": {},
     "output_type": "execute_result"
    }
   ],
   "source": [
    "list_lang = list(df['lang'].unique()) \n",
    "list_lang"
   ]
  },
  {
   "cell_type": "markdown",
   "id": "7dfec434",
   "metadata": {},
   "source": [
    "'xas' has around 75000 entries, so we skip it for the processing"
   ]
  },
  {
   "cell_type": "code",
   "execution_count": 31,
   "id": "22f119b4",
   "metadata": {},
   "outputs": [],
   "source": [
    "list_lang = ['bak', 'evn', 'mhr', 'tat', 'sah']"
   ]
  },
  {
   "cell_type": "code",
   "execution_count": 4,
   "id": "aba69eef",
   "metadata": {},
   "outputs": [
    {
     "name": "stdout",
     "output_type": "stream",
     "text": [
      "folder already exists\n",
      "folder already exists\n",
      "folder already exists\n",
      "folder already exists\n",
      "folder already exists\n",
      "folder already exists\n",
      "folder already exists\n"
     ]
    }
   ],
   "source": [
    "\n",
    "new_dir = root_path + 'processed_data' #new directory for cut files\n",
    "if os.path.exists(new_dir) is False:\n",
    "    os.mkdir(new_dir)\n",
    "else:\n",
    "    print('folder already exists')\n",
    "    \n",
    "list_lang = list(df['lang'].unique())    \n",
    "    \n",
    "# Create sub-folders with respective lang codes    \n",
    "    \n",
    "for l in list_lang:\n",
    "    \n",
    "    new_dir_ext = new_dir + f'/{l}'\n",
    "    \n",
    "    if os.path.exists(new_dir_ext) is False:\n",
    "        os.mkdir(new_dir_ext)\n",
    "    else:\n",
    "        print('folder already exists')"
   ]
  },
  {
   "cell_type": "code",
   "execution_count": 5,
   "id": "b34edc69",
   "metadata": {},
   "outputs": [
    {
     "data": {
      "text/html": [
       "<div>\n",
       "<style scoped>\n",
       "    .dataframe tbody tr th:only-of-type {\n",
       "        vertical-align: middle;\n",
       "    }\n",
       "\n",
       "    .dataframe tbody tr th {\n",
       "        vertical-align: top;\n",
       "    }\n",
       "\n",
       "    .dataframe thead th {\n",
       "        text-align: right;\n",
       "    }\n",
       "</style>\n",
       "<table border=\"1\" class=\"dataframe\">\n",
       "  <thead>\n",
       "    <tr style=\"text-align: right;\">\n",
       "      <th></th>\n",
       "      <th>id</th>\n",
       "      <th>start</th>\n",
       "      <th>end</th>\n",
       "      <th>source</th>\n",
       "      <th>lang</th>\n",
       "      <th>transcription</th>\n",
       "      <th>fpath</th>\n",
       "    </tr>\n",
       "  </thead>\n",
       "  <tbody>\n",
       "    <tr>\n",
       "      <th>0</th>\n",
       "      <td>0</td>\n",
       "      <td>1.680</td>\n",
       "      <td>3.810</td>\n",
       "      <td>5804.mp3</td>\n",
       "      <td>bak</td>\n",
       "      <td>sertifikat taratəp jœrœjœŋmœ ællæ hawmə</td>\n",
       "      <td>../raw_data/training_data/5804.mp3</td>\n",
       "    </tr>\n",
       "    <tr>\n",
       "      <th>1</th>\n",
       "      <td>1</td>\n",
       "      <td>3.800</td>\n",
       "      <td>4.600</td>\n",
       "      <td>5804.mp3</td>\n",
       "      <td>bak</td>\n",
       "      <td>jaq</td>\n",
       "      <td>../raw_data/training_data/5804.mp3</td>\n",
       "    </tr>\n",
       "    <tr>\n",
       "      <th>2</th>\n",
       "      <td>2</td>\n",
       "      <td>5.060</td>\n",
       "      <td>5.680</td>\n",
       "      <td>5804.mp3</td>\n",
       "      <td>bak</td>\n",
       "      <td>ultər</td>\n",
       "      <td>../raw_data/training_data/5804.mp3</td>\n",
       "    </tr>\n",
       "    <tr>\n",
       "      <th>3</th>\n",
       "      <td>3</td>\n",
       "      <td>8.580</td>\n",
       "      <td>11.480</td>\n",
       "      <td>5804.mp3</td>\n",
       "      <td>bak</td>\n",
       "      <td>hin nindæj dokumenttar birðeŋ tip horarɣa kil...</td>\n",
       "      <td>../raw_data/training_data/5804.mp3</td>\n",
       "    </tr>\n",
       "    <tr>\n",
       "      <th>4</th>\n",
       "      <td>4</td>\n",
       "      <td>12.315</td>\n",
       "      <td>14.015</td>\n",
       "      <td>5804.mp3</td>\n",
       "      <td>bak</td>\n",
       "      <td>hin xatta dokument aləp barmaɣanəŋmə</td>\n",
       "      <td>../raw_data/training_data/5804.mp3</td>\n",
       "    </tr>\n",
       "    <tr>\n",
       "      <th>...</th>\n",
       "      <td>...</td>\n",
       "      <td>...</td>\n",
       "      <td>...</td>\n",
       "      <td>...</td>\n",
       "      <td>...</td>\n",
       "      <td>...</td>\n",
       "      <td>...</td>\n",
       "    </tr>\n",
       "    <tr>\n",
       "      <th>98541</th>\n",
       "      <td>98541</td>\n",
       "      <td>0.000</td>\n",
       "      <td>9.180</td>\n",
       "      <td>110217.mp3</td>\n",
       "      <td>sah</td>\n",
       "      <td>tyːn ajaŋːa tuɾumːut ol baɾan ihen at xajatɯn ...</td>\n",
       "      <td>../raw_data/training_data/110217.mp3</td>\n",
       "    </tr>\n",
       "    <tr>\n",
       "      <th>98542</th>\n",
       "      <td>98542</td>\n",
       "      <td>0.000</td>\n",
       "      <td>8.280</td>\n",
       "      <td>110218.mp3</td>\n",
       "      <td>sah</td>\n",
       "      <td>aɾaːha aɾɣaː dieki tuox eɾe olus ulaxan alɟʝaɾ...</td>\n",
       "      <td>../raw_data/training_data/110218.mp3</td>\n",
       "    </tr>\n",
       "    <tr>\n",
       "      <th>98543</th>\n",
       "      <td>98543</td>\n",
       "      <td>0.000</td>\n",
       "      <td>9.108</td>\n",
       "      <td>110219.mp3</td>\n",
       "      <td>sah</td>\n",
       "      <td>tyːny bɯha kulun kuɾduk øɾø møxsøn meneɾijeːɾi...</td>\n",
       "      <td>../raw_data/training_data/110219.mp3</td>\n",
       "    </tr>\n",
       "    <tr>\n",
       "      <th>98544</th>\n",
       "      <td>98544</td>\n",
       "      <td>0.000</td>\n",
       "      <td>7.920</td>\n",
       "      <td>110220.mp3</td>\n",
       "      <td>sah</td>\n",
       "      <td>ɯnaxsɯt uonːa soxsoloox ikːi aɾdɯɡaɾ kuːhuma o...</td>\n",
       "      <td>../raw_data/training_data/110220.mp3</td>\n",
       "    </tr>\n",
       "    <tr>\n",
       "      <th>98545</th>\n",
       "      <td>98545</td>\n",
       "      <td>0.000</td>\n",
       "      <td>6.228</td>\n",
       "      <td>110221.mp3</td>\n",
       "      <td>sah</td>\n",
       "      <td>ɟʝieleɾiɡeɾ ɯksɯː oloɾoɾ ucçuːtalːaɾ cçepcçiː ...</td>\n",
       "      <td>../raw_data/training_data/110221.mp3</td>\n",
       "    </tr>\n",
       "  </tbody>\n",
       "</table>\n",
       "<p>98546 rows × 7 columns</p>\n",
       "</div>"
      ],
      "text/plain": [
       "          id   start     end      source lang  \\\n",
       "0          0   1.680   3.810    5804.mp3  bak   \n",
       "1          1   3.800   4.600    5804.mp3  bak   \n",
       "2          2   5.060   5.680    5804.mp3  bak   \n",
       "3          3   8.580  11.480    5804.mp3  bak   \n",
       "4          4  12.315  14.015    5804.mp3  bak   \n",
       "...      ...     ...     ...         ...  ...   \n",
       "98541  98541   0.000   9.180  110217.mp3  sah   \n",
       "98542  98542   0.000   8.280  110218.mp3  sah   \n",
       "98543  98543   0.000   9.108  110219.mp3  sah   \n",
       "98544  98544   0.000   7.920  110220.mp3  sah   \n",
       "98545  98545   0.000   6.228  110221.mp3  sah   \n",
       "\n",
       "                                           transcription  \\\n",
       "0                sertifikat taratəp jœrœjœŋmœ ællæ hawmə   \n",
       "1                                                    jaq   \n",
       "2                                                  ultər   \n",
       "3       hin nindæj dokumenttar birðeŋ tip horarɣa kil...   \n",
       "4                   hin xatta dokument aləp barmaɣanəŋmə   \n",
       "...                                                  ...   \n",
       "98541  tyːn ajaŋːa tuɾumːut ol baɾan ihen at xajatɯn ...   \n",
       "98542  aɾaːha aɾɣaː dieki tuox eɾe olus ulaxan alɟʝaɾ...   \n",
       "98543  tyːny bɯha kulun kuɾduk øɾø møxsøn meneɾijeːɾi...   \n",
       "98544  ɯnaxsɯt uonːa soxsoloox ikːi aɾdɯɡaɾ kuːhuma o...   \n",
       "98545  ɟʝieleɾiɡeɾ ɯksɯː oloɾoɾ ucçuːtalːaɾ cçepcçiː ...   \n",
       "\n",
       "                                      fpath  \n",
       "0        ../raw_data/training_data/5804.mp3  \n",
       "1        ../raw_data/training_data/5804.mp3  \n",
       "2        ../raw_data/training_data/5804.mp3  \n",
       "3        ../raw_data/training_data/5804.mp3  \n",
       "4        ../raw_data/training_data/5804.mp3  \n",
       "...                                     ...  \n",
       "98541  ../raw_data/training_data/110217.mp3  \n",
       "98542  ../raw_data/training_data/110218.mp3  \n",
       "98543  ../raw_data/training_data/110219.mp3  \n",
       "98544  ../raw_data/training_data/110220.mp3  \n",
       "98545  ../raw_data/training_data/110221.mp3  \n",
       "\n",
       "[98546 rows x 7 columns]"
      ]
     },
     "execution_count": 5,
     "metadata": {},
     "output_type": "execute_result"
    }
   ],
   "source": [
    "df[\"fpath\"] = root_path + 'raw_data/training_data/' + df[\"source\"].astype(str)\n",
    "df"
   ]
  },
  {
   "cell_type": "code",
   "execution_count": 6,
   "id": "ca995fd2",
   "metadata": {},
   "outputs": [],
   "source": [
    "def replacer(path):\n",
    "    return path.replace(' ', '_')\n",
    "df['fpath'] = df['fpath'].apply(replacer)\n",
    "df = df.reset_index() #adding indexes(id)"
   ]
  },
  {
   "cell_type": "code",
   "execution_count": 30,
   "id": "d4de1591",
   "metadata": {},
   "outputs": [
    {
     "data": {
      "application/vnd.jupyter.widget-view+json": {
       "model_id": "310619d9948d46d48982013f02669052",
       "version_major": 2,
       "version_minor": 0
      },
      "text/plain": [
       "  0%|          | 0/11970 [00:00<?, ?it/s]"
      ]
     },
     "metadata": {},
     "output_type": "display_data"
    },
    {
     "data": {
      "application/vnd.jupyter.widget-view+json": {
       "model_id": "6f3885cf5da24ba49588d90c7b0c7ff3",
       "version_major": 2,
       "version_minor": 0
      },
      "text/plain": [
       "  0%|          | 0/2558 [00:00<?, ?it/s]"
      ]
     },
     "metadata": {},
     "output_type": "display_data"
    }
   ],
   "source": [
    "!mkdir -p {root_path}/processed_data/ffmpeg_log\n",
    "\n",
    "def cutter(row): # cutting files accroding to timecodes\n",
    "    \n",
    "    fpath, start, end, index, lang = row[\"fpath\"], row[\"start\"], row[\"end\"], row[\"index\"], row[\"lang\"]\n",
    "    \n",
    "    if pd.isna(row.transcription) == False:    \n",
    "        \n",
    "        if pd.isna(row.start) or pd.isna(row.end):\n",
    "            \n",
    "            !ffmpeg -n -i {fpath} -ar 16000 \\\n",
    "            {root_path + 'processed_data/' + str(lang) + \"/\" + str(index)}.mp3 \\\n",
    "            2> {root_path}/processed_data/ffmpeg_log/{index}.log\n",
    "        \n",
    "        else:\n",
    "        \n",
    "            !ffmpeg -n -i {fpath} -ss {str(start)} -to {str(end)} -ar 16000 \\\n",
    "            {root_path + 'processed_data/' + str(lang) + \"/\" + str(index)}.mp3 \\\n",
    "            2> {root_path}/processed_data/ffmpeg_log/{index}.log\n",
    "\n",
    "            \n",
    "for l in list_lang:\n",
    "    \n",
    "    df_l = df[df['lang']==l]\n",
    "    df_l.progress_apply(cutter, axis=1)\n",
    "    \n",
    "    df_l = df_l.dropna(subset=['transcription'])\n",
    "    \n",
    "    # making column for paths of cut files\n",
    "    df_l['file_name'] = df_l['index'].apply(lambda x: str(x) + '.mp3')\n",
    "    \n",
    "    \n",
    "    # cleaning transcriptions\n",
    "    # df_l['transcription_clean'] = df_l['transcription'].apply(lambda x: x.strip('.«,').replace('=', '').replace(' ', '').replace('Ø', ' ')\n",
    "    df_l['transcription_clean'] = df_l['transcription'].apply(lambda x: x.strip('.«,').replace('=', '').replace('Ø', ' ')) # clearing punctuation marks and spaces\n",
    "    df_l['transcription_clean'] = df_l['transcription_clean'].apply(lambda x: re.sub('\\(.+?\\)', '', x))\n",
    "   \n",
    "    # filling empty strings\n",
    "    df_l['transcription_clean'] = df_l['transcription_clean'].apply(lambda s: s if s else '-')\n",
    "        \n",
    "    # saving file\n",
    "    df_l.to_csv(f'{root_path}/processed_data/{l}/asr_{l}.csv', index=False)\n",
    "    \n",
    "    # dropping columns which are not needed in the metadata file\n",
    "    df_l.drop(columns=['fpath', 'id', 'start', 'end', 'index', 'source', 'lang'], inplace=True)\n",
    "    \n",
    "    df_l = df_l[['file_name', 'transcription']]\n",
    "    df_l.to_csv(f'{root_path}/processed_data/{l}/metadata.csv', index=False)"
   ]
  },
  {
   "cell_type": "markdown",
   "id": "dc25165f",
   "metadata": {},
   "source": [
    "Some analysis for Evenki language transcripts : we have 4 cases where the person speaks only Russian, so transcription is set to NaN."
   ]
  },
  {
   "cell_type": "code",
   "execution_count": 13,
   "id": "c5fbcecb",
   "metadata": {},
   "outputs": [
    {
     "name": "stdout",
     "output_type": "stream",
     "text": [
      "4244    NaN\n",
      "4298    NaN\n",
      "4591    NaN\n",
      "5347    NaN\n",
      "Name: transcription, dtype: object\n"
     ]
    }
   ],
   "source": [
    "df_evn = df[df['lang'] == 'evn']\n",
    "\n",
    "num_mask = pd.to_numeric(df_evn['transcription'], errors='coerce').isnull()\n",
    "\n",
    "df_evn.loc[num_mask, 'transcription']\n",
    "\n",
    "print(df_evn.transcription[df_evn.transcription.isna()]) "
   ]
  },
  {
   "cell_type": "markdown",
   "id": "8212b14a",
   "metadata": {},
   "source": [
    "Some analysis for Bashkir Language transcripts : we have cases where start and end of recording are set to NaN, this is for very short audio, i.e. there is no need to cut the audio --> in the preprocessing we don't cut and skip them"
   ]
  },
  {
   "cell_type": "code",
   "execution_count": 25,
   "id": "1add01ec",
   "metadata": {},
   "outputs": [
    {
     "name": "stdout",
     "output_type": "stream",
     "text": [
      "7928   NaN\n",
      "7929   NaN\n",
      "7930   NaN\n",
      "7931   NaN\n",
      "7932   NaN\n",
      "        ..\n",
      "8961   NaN\n",
      "8962   NaN\n",
      "8963   NaN\n",
      "8964   NaN\n",
      "8965   NaN\n",
      "Name: start, Length: 992, dtype: float64\n"
     ]
    }
   ],
   "source": [
    "df_bak = df[df['lang'] == 'bak']\n",
    "\n",
    "print(df_bak.start[df_bak.start.isna()]) "
   ]
  },
  {
   "cell_type": "code",
   "execution_count": 27,
   "id": "e19ac7ee",
   "metadata": {},
   "outputs": [
    {
     "name": "stdout",
     "output_type": "stream",
     "text": [
      "Series([], Name: transcription, dtype: object)\n"
     ]
    }
   ],
   "source": [
    "num_mask = pd.to_numeric(df_bak['transcription'], errors='coerce').isnull()\n",
    "\n",
    "df_bak.loc[num_mask, 'transcription']\n",
    "\n",
    "print(df_bak.transcription[df_bak.transcription.isna()]) "
   ]
  },
  {
   "cell_type": "markdown",
   "id": "34071fc3",
   "metadata": {},
   "source": [
    "Some analysis for Tatar language"
   ]
  },
  {
   "cell_type": "code",
   "execution_count": 28,
   "id": "ba3a9ca1",
   "metadata": {},
   "outputs": [
    {
     "name": "stdout",
     "output_type": "stream",
     "text": [
      "Series([], Name: start, dtype: float64)\n"
     ]
    }
   ],
   "source": [
    "df_tat = df[df['lang'] == 'tat']\n",
    "\n",
    "print(df_tat.start[df_tat.start.isna()]) "
   ]
  },
  {
   "cell_type": "code",
   "execution_count": 29,
   "id": "0d03e7e7",
   "metadata": {},
   "outputs": [
    {
     "name": "stdout",
     "output_type": "stream",
     "text": [
      "Series([], Name: transcription, dtype: object)\n"
     ]
    }
   ],
   "source": [
    "num_mask = pd.to_numeric(df_tat['transcription'], errors='coerce').isnull()\n",
    "\n",
    "df_tat.loc[num_mask, 'transcription']\n",
    "\n",
    "print(df_tat.transcription[df_tat.transcription.isna()]) "
   ]
  },
  {
   "cell_type": "markdown",
   "id": "77b82e1d",
   "metadata": {},
   "source": [
    "After this audio cutting procedure also all the audio files are normalized to have 16Hz"
   ]
  }
 ],
 "metadata": {
  "kernelspec": {
   "display_name": "Python 3 (ipykernel)",
   "language": "python",
   "name": "python3"
  },
  "language_info": {
   "codemirror_mode": {
    "name": "ipython",
    "version": 3
   },
   "file_extension": ".py",
   "mimetype": "text/x-python",
   "name": "python",
   "nbconvert_exporter": "python",
   "pygments_lexer": "ipython3",
   "version": "3.10.8"
  },
  "toc": {
   "base_numbering": 1,
   "nav_menu": {},
   "number_sections": true,
   "sideBar": true,
   "skip_h1_title": false,
   "title_cell": "Table of Contents",
   "title_sidebar": "Contents",
   "toc_cell": false,
   "toc_position": {},
   "toc_section_display": true,
   "toc_window_display": false
  },
  "vscode": {
   "interpreter": {
    "hash": "d20c13f6df454a3883f6b31db45b7f0af7338f1e8ff5aabea54c05554480fd0b"
   }
  }
 },
 "nbformat": 4,
 "nbformat_minor": 5
}
